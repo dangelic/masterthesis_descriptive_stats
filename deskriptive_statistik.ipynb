{
 "cells": [
  {
   "cell_type": "code",
   "execution_count": 2,
   "metadata": {},
   "outputs": [
    {
     "name": "stdout",
     "output_type": "stream",
     "text": [
      "Collecting pandas\n",
      "  Obtaining dependency information for pandas from https://files.pythonhosted.org/packages/3e/89/cbca600319463a91ae6a46e537d548900ddf2114df66c902344c4fe6bb4c/pandas-2.1.4-cp311-cp311-macosx_11_0_arm64.whl.metadata\n",
      "  Downloading pandas-2.1.4-cp311-cp311-macosx_11_0_arm64.whl.metadata (18 kB)\n",
      "Collecting numpy<2,>=1.23.2 (from pandas)\n",
      "  Obtaining dependency information for numpy<2,>=1.23.2 from https://files.pythonhosted.org/packages/2e/54/218ce51bb571a70975f223671b2a86aa951e83abfd2a416a3d540f35115c/numpy-1.26.2-cp311-cp311-macosx_11_0_arm64.whl.metadata\n",
      "  Downloading numpy-1.26.2-cp311-cp311-macosx_11_0_arm64.whl.metadata (115 kB)\n",
      "\u001b[2K     \u001b[90m━━━━━━━━━━━━━━━━━━━━━━━━━━━━━━━━━━━━━━━\u001b[0m \u001b[32m115.1/115.1 kB\u001b[0m \u001b[31m3.6 MB/s\u001b[0m eta \u001b[36m0:00:00\u001b[0m\n",
      "\u001b[?25hRequirement already satisfied: python-dateutil>=2.8.2 in /Users/leodangelico/Library/Python/3.11/lib/python/site-packages (from pandas) (2.8.2)\n",
      "Collecting pytz>=2020.1 (from pandas)\n",
      "  Obtaining dependency information for pytz>=2020.1 from https://files.pythonhosted.org/packages/32/4d/aaf7eff5deb402fd9a24a1449a8119f00d74ae9c2efa79f8ef9994261fc2/pytz-2023.3.post1-py2.py3-none-any.whl.metadata\n",
      "  Downloading pytz-2023.3.post1-py2.py3-none-any.whl.metadata (22 kB)\n",
      "Collecting tzdata>=2022.1 (from pandas)\n",
      "  Downloading tzdata-2023.3-py2.py3-none-any.whl (341 kB)\n",
      "\u001b[2K     \u001b[90m━━━━━━━━━━━━━━━━━━━━━━━━━━━━━━━━━━━━━━━\u001b[0m \u001b[32m341.8/341.8 kB\u001b[0m \u001b[31m8.5 MB/s\u001b[0m eta \u001b[36m0:00:00\u001b[0m00:01\u001b[0m\n",
      "\u001b[?25hRequirement already satisfied: six>=1.5 in /Users/leodangelico/Library/Python/3.11/lib/python/site-packages (from python-dateutil>=2.8.2->pandas) (1.16.0)\n",
      "Downloading pandas-2.1.4-cp311-cp311-macosx_11_0_arm64.whl (10.8 MB)\n",
      "\u001b[2K   \u001b[90m━━━━━━━━━━━━━━━━━━━━━━━━━━━━━━━━━━━━━━━━\u001b[0m \u001b[32m10.8/10.8 MB\u001b[0m \u001b[31m13.1 MB/s\u001b[0m eta \u001b[36m0:00:00\u001b[0m00:01\u001b[0m00:01\u001b[0m\n",
      "\u001b[?25hDownloading numpy-1.26.2-cp311-cp311-macosx_11_0_arm64.whl (14.0 MB)\n",
      "\u001b[2K   \u001b[90m━━━━━━━━━━━━━━━━━━━━━━━━━━━━━━━━━━━━━━━━\u001b[0m \u001b[32m14.0/14.0 MB\u001b[0m \u001b[31m13.0 MB/s\u001b[0m eta \u001b[36m0:00:00\u001b[0m00:01\u001b[0m00:01\u001b[0m\n",
      "\u001b[?25hDownloading pytz-2023.3.post1-py2.py3-none-any.whl (502 kB)\n",
      "\u001b[2K   \u001b[90m━━━━━━━━━━━━━━━━━━━━━━━━━━━━━━━━━━━━━━━━\u001b[0m \u001b[32m502.5/502.5 kB\u001b[0m \u001b[31m11.4 MB/s\u001b[0m eta \u001b[36m0:00:00\u001b[0m00:01\u001b[0m\n",
      "\u001b[?25hInstalling collected packages: pytz, tzdata, numpy, pandas\n",
      "Successfully installed numpy-1.26.2 pandas-2.1.4 pytz-2023.3.post1 tzdata-2023.3\n",
      "\n",
      "\u001b[1m[\u001b[0m\u001b[34;49mnotice\u001b[0m\u001b[1;39;49m]\u001b[0m\u001b[39;49m A new release of pip is available: \u001b[0m\u001b[31;49m23.2.1\u001b[0m\u001b[39;49m -> \u001b[0m\u001b[32;49m23.3.1\u001b[0m\n",
      "\u001b[1m[\u001b[0m\u001b[34;49mnotice\u001b[0m\u001b[1;39;49m]\u001b[0m\u001b[39;49m To update, run: \u001b[0m\u001b[32;49mpython3.11 -m pip install --upgrade pip\u001b[0m\n",
      "Note: you may need to restart the kernel to use updated packages.\n"
     ]
    }
   ],
   "source": [
    "%pip install pandas"
   ]
  },
  {
   "cell_type": "code",
   "execution_count": null,
   "metadata": {},
   "outputs": [],
   "source": [
    "import pandas as pd"
   ]
  },
  {
   "cell_type": "code",
   "execution_count": 4,
   "metadata": {},
   "outputs": [
    {
     "name": "stdout",
     "output_type": "stream",
     "text": [
      "CSV-Datei erfolgreich eingelesen:\n",
      "  PROBAND_CODE                    ENTWURF  FRAGE_CODE ITEM_CODE  \\\n",
      "0         P_01  FARBCODIERUNG_MIT_LEGENDE  F_SKALA_01   ITEM_01   \n",
      "1         P_01  FARBCODIERUNG_MIT_LEGENDE  F_SKALA_02   ITEM_02   \n",
      "2         P_01  FARBCODIERUNG_MIT_LEGENDE  F_SKALA_03   ITEM_03   \n",
      "3         P_01  FARBCODIERUNG_MIT_LEGENDE  F_SKALA_04   ITEM_04   \n",
      "4         P_01  FARBCODIERUNG_MIT_LEGENDE  F_SKALA_05   ITEM_05   \n",
      "\n",
      "                                          FRAGE_TEXT ITEM_REFERENZ  \\\n",
      "0  Die Darstellung von konkreten Aufrufbeziehunge...   Darstellung   \n",
      "1  Die Anwendung der Farbcodierung mit Legende zu...     Anwendung   \n",
      "2  Die Darstellung von konkreten Aufrufbeziehunge...   Darstellung   \n",
      "3  Die Darstellung von konkreten Aufrufbeziehunge...   Darstellung   \n",
      "4  Das Gesamtbild erscheint mir durch die Farbcod...    Gesamtbild   \n",
      "\n",
      "           ITEM_NEG          ITEM_POS          DIMENSION  RESULTAT  \n",
      "0    unverständlich      verständlich  DURCHSCHAUBARKEIT         3  \n",
      "1  schwer zu lernen  leicht zu lernen  DURCHSCHAUBARKEIT         1  \n",
      "2       kompliziert           einfach  DURCHSCHAUBARKEIT         7  \n",
      "3        verwirrend     übersichtlich  DURCHSCHAUBARKEIT         5  \n",
      "4         überladen        aufgeräumt          EFFIZIENZ         5  \n"
     ]
    }
   ],
   "source": [
    "\n",
    "def read_csv_to_dataframe(file_path):\n",
    "    \"\"\"\n",
    "    Liest eine CSV-Datei aus dem angegebenen relativen Pfad ein und gibt einen Pandas DataFrame zurück.\n",
    "    \n",
    "    :param file_path: Der relative Pfad zur CSV-Datei.\n",
    "    :return: Ein Pandas DataFrame mit den Daten aus der CSV-Datei.\n",
    "    \"\"\"\n",
    "    try:\n",
    "        # Verwende Pandas, um die CSV-Datei in einen DataFrame zu lesen\n",
    "        dataframe = pd.read_csv(file_path)\n",
    "        \n",
    "        # Gib den erstellten DataFrame zurück\n",
    "        return dataframe\n",
    "    except FileNotFoundError:\n",
    "        print(f\"Die Datei unter dem Pfad '{file_path}' wurde nicht gefunden.\")\n",
    "        return None\n",
    "    except Exception as e:\n",
    "        print(f\"Fehler beim Lesen der CSV-Datei: {str(e)}\")\n",
    "        return None\n",
    "\n",
    "relative_path = \"../Ergebnisse/evaluation_iteration1_quantitativ.csv\"\n",
    "data_frame = read_csv_to_dataframe(relative_path)\n",
    "\n",
    "if data_frame is not None:\n",
    "    print(data_frame.head())"
   ]
  },
  {
   "cell_type": "code",
   "execution_count": null,
   "metadata": {},
   "outputs": [],
   "source": [
    "\n",
    "def read_csv_to_dataframe(file_path):\n",
    "    \"\"\"\n",
    "    Liest eine CSV-Datei aus dem angegebenen relativen Pfad ein und gibt einen Pandas DataFrame zurück.\n",
    "    \n",
    "    :param file_path: Der relative Pfad zur CSV-Datei.\n",
    "    :return: Ein Pandas DataFrame mit den Daten aus der CSV-Datei.\n",
    "    \"\"\"\n",
    "    try:\n",
    "        # Verwende Pandas, um die CSV-Datei in einen DataFrame zu lesen\n",
    "        dataframe = pd.read_csv(file_path)\n",
    "        \n",
    "        # Gib den erstellten DataFrame zurück\n",
    "        return dataframe\n",
    "    except FileNotFoundError:\n",
    "        print(f\"Die Datei unter dem Pfad '{file_path}' wurde nicht gefunden.\")\n",
    "        return None\n",
    "    except Exception as e:\n",
    "        print(f\"Fehler beim Lesen der CSV-Datei: {str(e)}\")\n",
    "        return None\n",
    "\n",
    "# Beispielaufruf der Funktion mit einem relativen Pfad\n",
    "relative_path = \"relativer/pfad/zur/deiner_datei.csv\"\n",
    "data_frame = read_csv_to_dataframe(relative_path)\n",
    "\n",
    "# Wenn die Datei erfolgreich gelesen wurde, kannst du mit dem DataFrame arbeiten\n",
    "if data_frame is not None:\n",
    "    print(\"CSV-Datei erfolgreich eingelesen:\")\n",
    "    print(data_frame.head())"
   ]
  }
 ],
 "metadata": {
  "kernelspec": {
   "display_name": "Python 3",
   "language": "python",
   "name": "python3"
  },
  "language_info": {
   "codemirror_mode": {
    "name": "ipython",
    "version": 3
   },
   "file_extension": ".py",
   "mimetype": "text/x-python",
   "name": "python",
   "nbconvert_exporter": "python",
   "pygments_lexer": "ipython3",
   "version": "3.11.4"
  }
 },
 "nbformat": 4,
 "nbformat_minor": 2
}
