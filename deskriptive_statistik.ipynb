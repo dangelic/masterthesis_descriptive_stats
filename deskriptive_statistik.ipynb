{
 "cells": [
  {
   "cell_type": "code",
   "execution_count": 49,
   "metadata": {},
   "outputs": [
    {
     "name": "stdout",
     "output_type": "stream",
     "text": [
      "Requirement already satisfied: pandas in /opt/homebrew/lib/python3.11/site-packages (2.1.4)\n",
      "Requirement already satisfied: numpy<2,>=1.23.2 in /opt/homebrew/lib/python3.11/site-packages (from pandas) (1.26.2)\n",
      "Requirement already satisfied: python-dateutil>=2.8.2 in /Users/leodangelico/Library/Python/3.11/lib/python/site-packages (from pandas) (2.8.2)\n",
      "Requirement already satisfied: pytz>=2020.1 in /opt/homebrew/lib/python3.11/site-packages (from pandas) (2023.3.post1)\n",
      "Requirement already satisfied: tzdata>=2022.1 in /opt/homebrew/lib/python3.11/site-packages (from pandas) (2023.3)\n",
      "Requirement already satisfied: six>=1.5 in /Users/leodangelico/Library/Python/3.11/lib/python/site-packages (from python-dateutil>=2.8.2->pandas) (1.16.0)\n",
      "\n",
      "\u001b[1m[\u001b[0m\u001b[34;49mnotice\u001b[0m\u001b[1;39;49m]\u001b[0m\u001b[39;49m A new release of pip is available: \u001b[0m\u001b[31;49m23.2.1\u001b[0m\u001b[39;49m -> \u001b[0m\u001b[32;49m23.3.1\u001b[0m\n",
      "\u001b[1m[\u001b[0m\u001b[34;49mnotice\u001b[0m\u001b[1;39;49m]\u001b[0m\u001b[39;49m To update, run: \u001b[0m\u001b[32;49mpython3.11 -m pip install --upgrade pip\u001b[0m\n",
      "Note: you may need to restart the kernel to use updated packages.\n",
      "Requirement already satisfied: matplotlib in /opt/homebrew/lib/python3.11/site-packages (3.8.2)\n",
      "Requirement already satisfied: contourpy>=1.0.1 in /opt/homebrew/lib/python3.11/site-packages (from matplotlib) (1.2.0)\n",
      "Requirement already satisfied: cycler>=0.10 in /opt/homebrew/lib/python3.11/site-packages (from matplotlib) (0.12.1)\n",
      "Requirement already satisfied: fonttools>=4.22.0 in /opt/homebrew/lib/python3.11/site-packages (from matplotlib) (4.46.0)\n",
      "Requirement already satisfied: kiwisolver>=1.3.1 in /opt/homebrew/lib/python3.11/site-packages (from matplotlib) (1.4.5)\n",
      "Requirement already satisfied: numpy<2,>=1.21 in /opt/homebrew/lib/python3.11/site-packages (from matplotlib) (1.26.2)\n",
      "Requirement already satisfied: packaging>=20.0 in /Users/leodangelico/Library/Python/3.11/lib/python/site-packages (from matplotlib) (23.2)\n",
      "Requirement already satisfied: pillow>=8 in /opt/homebrew/lib/python3.11/site-packages (from matplotlib) (10.1.0)\n",
      "Requirement already satisfied: pyparsing>=2.3.1 in /opt/homebrew/lib/python3.11/site-packages (from matplotlib) (3.1.1)\n",
      "Requirement already satisfied: python-dateutil>=2.7 in /Users/leodangelico/Library/Python/3.11/lib/python/site-packages (from matplotlib) (2.8.2)\n",
      "Requirement already satisfied: six>=1.5 in /Users/leodangelico/Library/Python/3.11/lib/python/site-packages (from python-dateutil>=2.7->matplotlib) (1.16.0)\n",
      "\n",
      "\u001b[1m[\u001b[0m\u001b[34;49mnotice\u001b[0m\u001b[1;39;49m]\u001b[0m\u001b[39;49m A new release of pip is available: \u001b[0m\u001b[31;49m23.2.1\u001b[0m\u001b[39;49m -> \u001b[0m\u001b[32;49m23.3.1\u001b[0m\n",
      "\u001b[1m[\u001b[0m\u001b[34;49mnotice\u001b[0m\u001b[1;39;49m]\u001b[0m\u001b[39;49m To update, run: \u001b[0m\u001b[32;49mpython3.11 -m pip install --upgrade pip\u001b[0m\n",
      "Note: you may need to restart the kernel to use updated packages.\n"
     ]
    }
   ],
   "source": [
    "%pip install pandas\n",
    "%pip install matplotlib\n",
    "\n"
   ]
  },
  {
   "cell_type": "code",
   "execution_count": 50,
   "metadata": {},
   "outputs": [],
   "source": [
    "import pandas as pd\n",
    "import matplotlib.pyplot as plt"
   ]
  },
  {
   "cell_type": "code",
   "execution_count": 51,
   "metadata": {},
   "outputs": [
    {
     "name": "stdout",
     "output_type": "stream",
     "text": [
      "  PROBAND_CODE                    ENTWURF  FRAGE_CODE ITEM_CODE  \\\n",
      "0         P_01  FARBCODIERUNG_MIT_LEGENDE  F_SKALA_01   ITEM_01   \n",
      "1         P_01  FARBCODIERUNG_MIT_LEGENDE  F_SKALA_02   ITEM_02   \n",
      "2         P_01  FARBCODIERUNG_MIT_LEGENDE  F_SKALA_03   ITEM_03   \n",
      "3         P_01  FARBCODIERUNG_MIT_LEGENDE  F_SKALA_04   ITEM_04   \n",
      "4         P_01  FARBCODIERUNG_MIT_LEGENDE  F_SKALA_05   ITEM_05   \n",
      "\n",
      "                                          FRAGE_TEXT ITEM_REFERENZ  \\\n",
      "0  Die Darstellung von konkreten Aufrufbeziehunge...   Darstellung   \n",
      "1  Die Anwendung der Farbcodierung mit Legende zu...     Anwendung   \n",
      "2  Die Darstellung von konkreten Aufrufbeziehunge...   Darstellung   \n",
      "3  Die Darstellung von konkreten Aufrufbeziehunge...   Darstellung   \n",
      "4  Das Gesamtbild erscheint mir durch die Farbcod...    Gesamtbild   \n",
      "\n",
      "           ITEM_NEG          ITEM_POS          DIMENSION  RESULTAT  \n",
      "0    unverständlich      verständlich  DURCHSCHAUBARKEIT         3  \n",
      "1  schwer zu lernen  leicht zu lernen  DURCHSCHAUBARKEIT         1  \n",
      "2       kompliziert           einfach  DURCHSCHAUBARKEIT         7  \n",
      "3        verwirrend     übersichtlich  DURCHSCHAUBARKEIT         5  \n",
      "4         überladen        aufgeräumt          EFFIZIENZ         5  \n"
     ]
    }
   ],
   "source": [
    "\n",
    "def read_csv_to_dataframe(file_path):\n",
    "    \"\"\"\n",
    "    Liest eine CSV-Datei aus dem angegebenen relativen Pfad ein und gibt einen Pandas DataFrame zurück.\n",
    "    \n",
    "    :param file_path: Der relative Pfad zur CSV-Datei.\n",
    "    :return: Ein Pandas DataFrame mit den Daten aus der CSV-Datei.\n",
    "    \"\"\"\n",
    "    try:\n",
    "        # Verwende Pandas, um die CSV-Datei in einen DataFrame zu lesen\n",
    "        dataframe = pd.read_csv(file_path)\n",
    "        \n",
    "        # Gib den erstellten DataFrame zurück\n",
    "        return dataframe\n",
    "    except FileNotFoundError:\n",
    "        print(f\"Die Datei unter dem Pfad '{file_path}' wurde nicht gefunden.\")\n",
    "        return None\n",
    "    except Exception as e:\n",
    "        print(f\"Fehler beim Lesen der CSV-Datei: {str(e)}\")\n",
    "        return None\n",
    "\n",
    "relative_path = \"../Ergebnisse/evaluation_iteration1_quantitativ.csv\"\n",
    "df = read_csv_to_dataframe(relative_path)\n",
    "\n",
    "if df is not None:\n",
    "    print(data_frame.head())"
   ]
  },
  {
   "cell_type": "code",
   "execution_count": 52,
   "metadata": {},
   "outputs": [
    {
     "name": "stdout",
     "output_type": "stream",
     "text": [
      "Statistische Werte für jede Klasse:\n",
      "Modus:\n",
      "{'ANIMATION': 5, 'FARBCODIERUNG_MIT_LEGENDE': 5, 'PFEILSYSTEM': 5}\n",
      "Minimum:\n",
      "{'ANIMATION': 1, 'FARBCODIERUNG_MIT_LEGENDE': 1, 'PFEILSYSTEM': 1}\n",
      "Maximum:\n",
      "{'ANIMATION': 7, 'FARBCODIERUNG_MIT_LEGENDE': 7, 'PFEILSYSTEM': 7}\n"
     ]
    },
    {
     "data": {
      "image/png": "[encoded data removed]",
      "text/plain": [
       "<Figure size 1000x600 with 1 Axes>"
      ]
     },
     "metadata": {},
     "output_type": "display_data"
    }
   ],
   "source": [
    "\n",
    "def calculate_stats(data_frame):\n",
    "    \"\"\"\n",
    "    Berechnet den Modus, das Minimum und das Maximum der Spalte 'RESULTAT' für jede Klasse in der Spalte 'ENTWURF'.\n",
    "\n",
    "    :param data_frame: Ein Pandas DataFrame mit den Daten.\n",
    "    :return: Ein Dictionary, das die statistischen Werte für jede Klasse enthält.\n",
    "    \"\"\"\n",
    "    try:\n",
    "        # Gruppiere den DataFrame nach der Spalte 'ENTWURF'\n",
    "        grouped_by_entwurf = data_frame.groupby('ENTWURF')['RESULTAT']\n",
    "        \n",
    "        # Berechne den Modus, das Minimum und das Maximum für jede Klasse\n",
    "        stats = grouped_by_entwurf.agg([('mode', lambda x: x.mode().iloc[0] if not x.mode().empty else None),\n",
    "                                        ('min', 'min'),\n",
    "                                        ('max', 'max')])\n",
    "        \n",
    "        # Gib die Ergebnisse als Dictionary zurück\n",
    "        result_dict = {\n",
    "            'mode': dict(zip(stats.index, stats['mode'])),\n",
    "            'min': dict(zip(stats.index, stats['min'])),\n",
    "            'max': dict(zip(stats.index, stats['max']))\n",
    "        }\n",
    "        return result_dict\n",
    "    except Exception as e:\n",
    "        print(f\"Fehler bei der Berechnung der statistischen Werte: {str(e)}\")\n",
    "        return None\n",
    "\n",
    "def plot_stats(stats_result):\n",
    "    \"\"\"\n",
    "    Erstellt ein Diagramm für die statistischen Werte.\n",
    "\n",
    "    :param stats_result: Das Dictionary mit den statistischen Werten.\n",
    "    \"\"\"\n",
    "    try:\n",
    "        # Extrahiere Klassen und Werte aus dem Ergebnis\n",
    "        classes = list(stats_result['mode'].keys())\n",
    "        modes = list(stats_result['mode'].values())\n",
    "        mins = list(stats_result['min'].values())\n",
    "        maxs = list(stats_result['max'].values())\n",
    "\n",
    "        # Erstelle ein Balkendiagramm\n",
    "        bar_width = 0.2\n",
    "        bar_positions_mode = range(len(classes))\n",
    "        bar_positions_min = [pos + bar_width for pos in bar_positions_mode]\n",
    "        bar_positions_max = [pos + bar_width for pos in bar_positions_min]\n",
    "\n",
    "        plt.figure(figsize=(10, 6))\n",
    "        plt.bar(bar_positions_mode, modes, color='blue', width=bar_width, label='Mode')\n",
    "        plt.bar(bar_positions_min, mins, color='green', width=bar_width, label='Min')\n",
    "        plt.bar(bar_positions_max, maxs, color='red', width=bar_width, label='Max')\n",
    "\n",
    "        # Füge Beschriftungen und Legende hinzu\n",
    "        plt.xlabel('Klasse')\n",
    "        plt.ylabel('Wert')\n",
    "        plt.title('Statistische Werte für jede Klasse')\n",
    "        plt.xticks(bar_positions_min, classes)\n",
    "        plt.legend()\n",
    "\n",
    "        # Zeige das Diagramm an\n",
    "        plt.show()\n",
    "    except Exception as e:\n",
    "        print(f\"Fehler bei der Erstellung des Diagramms: {str(e)}\")\n",
    "\n",
    "stats_result = calculate_stats(df)\n",
    "\n",
    "if stats_result is not None:\n",
    "    print(\"Statistische Werte für jede Klasse:\")\n",
    "    print(\"Modus:\")\n",
    "    print(stats_result['mode'])\n",
    "    print(\"Minimum:\")\n",
    "    print(stats_result['min'])\n",
    "    print(\"Maximum:\")\n",
    "    print(stats_result['max'])\n",
    "\n",
    "    # Erstelle das Diagramm\n",
    "    plot_stats(stats_result)\n"
   ]
  }
 ],
 "metadata": {
  "kernelspec": {
   "display_name": "Python 3",
   "language": "python",
   "name": "python3"
  },
  "language_info": {
   "codemirror_mode": {
    "name": "ipython",
    "version": 3
   },
   "file_extension": ".py",
   "mimetype": "text/x-python",
   "name": "python",
   "nbconvert_exporter": "python",
   "pygments_lexer": "ipython3",
   "version": "3.11.4"
  }
 },
 "nbformat": 4,
 "nbformat_minor": 2
}
