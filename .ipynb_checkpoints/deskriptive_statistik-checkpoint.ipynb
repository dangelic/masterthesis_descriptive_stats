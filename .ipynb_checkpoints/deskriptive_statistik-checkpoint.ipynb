{
 "cells": [
  {
   "cell_type": "code",
   "execution_count": 1,
   "metadata": {
    "tags": []
   },
   "outputs": [
    {
     "name": "stdout",
     "output_type": "stream",
     "text": [
      "Requirement already satisfied: pandas in /Users/leodangelico/miniconda3/envs/custom_venv/lib/python3.11/site-packages (2.1.3)\n",
      "Requirement already satisfied: numpy<2,>=1.23.2 in /Users/leodangelico/miniconda3/envs/custom_venv/lib/python3.11/site-packages (from pandas) (1.24.3)\n",
      "Requirement already satisfied: python-dateutil>=2.8.2 in /Users/leodangelico/miniconda3/envs/custom_venv/lib/python3.11/site-packages (from pandas) (2.8.2)\n",
      "Requirement already satisfied: pytz>=2020.1 in /Users/leodangelico/miniconda3/envs/custom_venv/lib/python3.11/site-packages (from pandas) (2023.3.post1)\n",
      "Requirement already satisfied: tzdata>=2022.1 in /Users/leodangelico/miniconda3/envs/custom_venv/lib/python3.11/site-packages (from pandas) (2023.3)\n",
      "Requirement already satisfied: six>=1.5 in /Users/leodangelico/miniconda3/envs/custom_venv/lib/python3.11/site-packages (from python-dateutil>=2.8.2->pandas) (1.16.0)\n",
      "Note: you may need to restart the kernel to use updated packages.\n",
      "Requirement already satisfied: matplotlib in /Users/leodangelico/miniconda3/envs/custom_venv/lib/python3.11/site-packages (3.8.2)\n",
      "Requirement already satisfied: contourpy>=1.0.1 in /Users/leodangelico/miniconda3/envs/custom_venv/lib/python3.11/site-packages (from matplotlib) (1.2.0)\n",
      "Requirement already satisfied: cycler>=0.10 in /Users/leodangelico/miniconda3/envs/custom_venv/lib/python3.11/site-packages (from matplotlib) (0.12.1)\n",
      "Requirement already satisfied: fonttools>=4.22.0 in /Users/leodangelico/miniconda3/envs/custom_venv/lib/python3.11/site-packages (from matplotlib) (4.45.1)\n",
      "Requirement already satisfied: kiwisolver>=1.3.1 in /Users/leodangelico/miniconda3/envs/custom_venv/lib/python3.11/site-packages (from matplotlib) (1.4.5)\n",
      "Requirement already satisfied: numpy<2,>=1.21 in /Users/leodangelico/miniconda3/envs/custom_venv/lib/python3.11/site-packages (from matplotlib) (1.24.3)\n",
      "Requirement already satisfied: packaging>=20.0 in /Users/leodangelico/miniconda3/envs/custom_venv/lib/python3.11/site-packages (from matplotlib) (23.2)\n",
      "Requirement already satisfied: pillow>=8 in /Users/leodangelico/miniconda3/envs/custom_venv/lib/python3.11/site-packages (from matplotlib) (10.1.0)\n",
      "Requirement already satisfied: pyparsing>=2.3.1 in /Users/leodangelico/miniconda3/envs/custom_venv/lib/python3.11/site-packages (from matplotlib) (3.1.1)\n",
      "Requirement already satisfied: python-dateutil>=2.7 in /Users/leodangelico/miniconda3/envs/custom_venv/lib/python3.11/site-packages (from matplotlib) (2.8.2)\n",
      "Requirement already satisfied: six>=1.5 in /Users/leodangelico/miniconda3/envs/custom_venv/lib/python3.11/site-packages (from python-dateutil>=2.7->matplotlib) (1.16.0)\n",
      "Note: you may need to restart the kernel to use updated packages.\n",
      "Requirement already satisfied: seaborn in /Users/leodangelico/miniconda3/envs/custom_venv/lib/python3.11/site-packages (0.13.0)\n",
      "Requirement already satisfied: numpy!=1.24.0,>=1.20 in /Users/leodangelico/miniconda3/envs/custom_venv/lib/python3.11/site-packages (from seaborn) (1.24.3)\n",
      "Requirement already satisfied: pandas>=1.2 in /Users/leodangelico/miniconda3/envs/custom_venv/lib/python3.11/site-packages (from seaborn) (2.1.3)\n",
      "Requirement already satisfied: matplotlib!=3.6.1,>=3.3 in /Users/leodangelico/miniconda3/envs/custom_venv/lib/python3.11/site-packages (from seaborn) (3.8.2)\n",
      "Requirement already satisfied: contourpy>=1.0.1 in /Users/leodangelico/miniconda3/envs/custom_venv/lib/python3.11/site-packages (from matplotlib!=3.6.1,>=3.3->seaborn) (1.2.0)\n",
      "Requirement already satisfied: cycler>=0.10 in /Users/leodangelico/miniconda3/envs/custom_venv/lib/python3.11/site-packages (from matplotlib!=3.6.1,>=3.3->seaborn) (0.12.1)\n",
      "Requirement already satisfied: fonttools>=4.22.0 in /Users/leodangelico/miniconda3/envs/custom_venv/lib/python3.11/site-packages (from matplotlib!=3.6.1,>=3.3->seaborn) (4.45.1)\n",
      "Requirement already satisfied: kiwisolver>=1.3.1 in /Users/leodangelico/miniconda3/envs/custom_venv/lib/python3.11/site-packages (from matplotlib!=3.6.1,>=3.3->seaborn) (1.4.5)\n",
      "Requirement already satisfied: packaging>=20.0 in /Users/leodangelico/miniconda3/envs/custom_venv/lib/python3.11/site-packages (from matplotlib!=3.6.1,>=3.3->seaborn) (23.2)\n",
      "Requirement already satisfied: pillow>=8 in /Users/leodangelico/miniconda3/envs/custom_venv/lib/python3.11/site-packages (from matplotlib!=3.6.1,>=3.3->seaborn) (10.1.0)\n",
      "Requirement already satisfied: pyparsing>=2.3.1 in /Users/leodangelico/miniconda3/envs/custom_venv/lib/python3.11/site-packages (from matplotlib!=3.6.1,>=3.3->seaborn) (3.1.1)\n",
      "Requirement already satisfied: python-dateutil>=2.7 in /Users/leodangelico/miniconda3/envs/custom_venv/lib/python3.11/site-packages (from matplotlib!=3.6.1,>=3.3->seaborn) (2.8.2)\n",
      "Requirement already satisfied: pytz>=2020.1 in /Users/leodangelico/miniconda3/envs/custom_venv/lib/python3.11/site-packages (from pandas>=1.2->seaborn) (2023.3.post1)\n",
      "Requirement already satisfied: tzdata>=2022.1 in /Users/leodangelico/miniconda3/envs/custom_venv/lib/python3.11/site-packages (from pandas>=1.2->seaborn) (2023.3)\n",
      "Requirement already satisfied: six>=1.5 in /Users/leodangelico/miniconda3/envs/custom_venv/lib/python3.11/site-packages (from python-dateutil>=2.7->matplotlib!=3.6.1,>=3.3->seaborn) (1.16.0)\n",
      "Note: you may need to restart the kernel to use updated packages.\n"
     ]
    }
   ],
   "source": [
    "%pip install pandas\n",
    "%pip install matplotlib\n",
    "%pip install seaborn\n"
   ]
  },
  {
   "cell_type": "code",
   "execution_count": 4,
   "metadata": {
    "tags": []
   },
   "outputs": [],
   "source": [
    "import pandas as pd\n",
    "import matplotlib.pyplot as plt\n",
    "import seaborn as sns"
   ]
  },
  {
   "cell_type": "code",
   "execution_count": 5,
   "metadata": {
    "tags": []
   },
   "outputs": [],
   "source": [
    "PATH_TO_EVALUATION_RESULT_ITERATION_1_QUANT = '../Ergebnisse/evaluation_iteration1_quantitativ.csv'"
   ]
  },
  {
   "cell_type": "code",
   "execution_count": 11,
   "metadata": {
    "tags": []
   },
   "outputs": [
    {
     "name": "stdout",
     "output_type": "stream",
     "text": [
      "  PROBAND_CODE        ENTWURF  FRAGE_CODE ITEM_CODE  \\\n",
      "0   PROBAND_01  FARBCODIERUNG  F_SKALA_01   ITEM_01   \n",
      "1   PROBAND_01  FARBCODIERUNG  F_SKALA_02   ITEM_02   \n",
      "2   PROBAND_01  FARBCODIERUNG  F_SKALA_03   ITEM_03   \n",
      "3   PROBAND_01  FARBCODIERUNG  F_SKALA_04   ITEM_04   \n",
      "4   PROBAND_01  FARBCODIERUNG  F_SKALA_05   ITEM_05   \n",
      "\n",
      "                                          FRAGE_TEXT ITEM_REFERENZ  \\\n",
      "0  Die Darstellung von konkreten Aufrufbeziehunge...   Darstellung   \n",
      "1  Die Anwendung der Farbcodierung mit Legende zu...     Anwendung   \n",
      "2  Die Darstellung von konkreten Aufrufbeziehunge...   Darstellung   \n",
      "3  Die Darstellung von konkreten Aufrufbeziehunge...   Darstellung   \n",
      "4  Das Gesamtbild erscheint mir durch die Farbcod...    Gesamtbild   \n",
      "\n",
      "       ITEM_NEGATIV      ITEM_POSITIV       UX_DIMENSION  ANTWORT INFO  \n",
      "0    unverständlich      verständlich  DURCHSCHAUBARKEIT        4  NaN  \n",
      "1  schwer zu lernen  leicht zu lernen  DURCHSCHAUBARKEIT        5  NaN  \n",
      "2       kompliziert           einfach  DURCHSCHAUBARKEIT        6  NaN  \n",
      "3        verwirrend     übersichtlich  DURCHSCHAUBARKEIT        6  NaN  \n",
      "4         überladen        aufgeräumt          EFFIZIENZ        6  NaN  \n"
     ]
    }
   ],
   "source": [
    "def read_csv_to_dataframe(file_path):\n",
    "    try:\n",
    "        df = pd.read_csv(file_path)\n",
    "        return df\n",
    "    except FileNotFoundError:\n",
    "        print(f\"No file found in path: '{file_path}'\")\n",
    "        return None\n",
    "    except Exception as e:\n",
    "        print(f\"Error reading data: {str(e)}\")\n",
    "        return None\n",
    "\n",
    "df_iteration_1 = read_csv_to_dataframe(PATH_TO_EVALUATION_RESULT_ITERATION_1_QUANT)\n",
    "\n",
    "if df_iteration_1 is not None:\n",
    "    print(df_iteration_1.head())"
   ]
  },
  {
   "cell_type": "code",
   "execution_count": 68,
   "metadata": {
    "tags": []
   },
   "outputs": [
    {
     "name": "stdout",
     "output_type": "stream",
     "text": [
      "                                 Minimum  Maximum  Modus  1-2  3  4-5  6-7\n",
      "ENTWURF       UX_DIMENSION                                                \n",
      "FARBCODIERUNG DURCHSCHAUBARKEIT        3        7      6    0  0    4   11\n",
      "              EFFIZIENZ                2        7      5    0  1    4   12\n",
      "PFEILSYSTEM   DURCHSCHAUBARKEIT        3        7      6    0  0    6   10\n",
      "              EFFIZIENZ                3        7      6    0  0    6    9\n",
      "ANIMATION     DURCHSCHAUBARKEIT        2        7      6    0  2    2   10\n",
      "              EFFIZIENZ                1        7      5    1  2    6    8\n"
     ]
    }
   ],
   "source": [
    "import pandas as pd\n",
    "\n",
    "def calculate_min_max_mode_by_dim(df):\n",
    "    # Group by 'ENTWURF' and then 'UX_DIMENSION'\n",
    "    grouped_data = df.groupby(['ENTWURF', 'UX_DIMENSION'])\n",
    "\n",
    "    # Calculate min, max, and mode for each group\n",
    "    result = grouped_data.agg({\n",
    "        'ANTWORT': ['min', 'max', lambda x: x.mode().iloc[0] if not x.mode().empty else None]\n",
    "    })\n",
    "\n",
    "    # Rename the columns for clarity\n",
    "    result.columns = ['Minimum', 'Maximum', 'Modus']\n",
    "\n",
    "    # Create classes and calculate occurrences for each class\n",
    "    bins = [0, 2, 3, 5, 7]\n",
    "    class_occurrences = grouped_data['ANTWORT'].apply(lambda x: pd.cut(x, bins=bins, labels=False, right=False).value_counts()).unstack(fill_value=0)\n",
    "\n",
    "    # Add the occurrences columns to the result\n",
    "    result = pd.concat([result, class_occurrences], axis=1)\n",
    "\n",
    "    # Rename the columns based on the class intervals\n",
    "    result.columns = ['Minimum', 'Maximum', 'Modus', '1-2', '3', '4-5', '6-7']\n",
    "\n",
    "    # Sort the index based on the specified order of 'ENTWURF'\n",
    "    result = result.loc[['FARBCODIERUNG', 'PFEILSYSTEM', 'ANIMATION']]\n",
    "\n",
    "    return result\n",
    "\n",
    "result_df = calculate_min_max_mode_by_dim(df_iteration_1)\n",
    "print(result_df)"
   ]
  },
  {
   "cell_type": "code",
   "execution_count": 72,
   "metadata": {},
   "outputs": [
    {
     "data": {
      "image/png": "[encoded data removed]",
      "text/plain": [
       "<Figure size 600x550 with 1 Axes>"
      ]
     },
     "metadata": {},
     "output_type": "display_data"
    }
   ],
   "source": [
    "import pandas as pd\n",
    "import seaborn as sns\n",
    "import matplotlib.pyplot as plt\n",
    "\n",
    "# Assuming result_df is your DataFrame\n",
    "# If not, replace result_df with your actual DataFrame\n",
    "\n",
    "# Set the size of the chart\n",
    "plt.figure(figsize=(6, 5.5))\n",
    "\n",
    "# Define a custom color palette\n",
    "custom_palette = {'DURCHSCHAUBARKEIT': '#2979b5', 'EFFIZIENZ': '#4da6ff'}\n",
    "\n",
    "# Plot the bar plot without dotting and hatching\n",
    "ax = sns.barplot(x=\"ENTWURF\", y=\"Modus\", hue=\"UX_DIMENSION\", data=result_df, errorbar=None, width=0.5, palette=custom_palette)\n",
    "\n",
    "# Add error bars for Min and Max values with a different color\n",
    "min_values = result_df['Minimum']\n",
    "max_values = result_df['Maximum']\n",
    "for i, (bar, min_val, max_val) in enumerate(zip(ax.patches, min_values, max_values)):\n",
    "    hue_index = i % len(result_df.index.levels[1])\n",
    "    ax.errorbar(\n",
    "        x=bar.get_x() + bar.get_width() / 2,\n",
    "        y=result_df['Modus'].iloc[i],\n",
    "        yerr=[[result_df['Modus'].iloc[i] - min_val], [max_val - result_df['Modus'].iloc[i]]],\n",
    "        color='black',  # Change the color to red (you can choose any color you prefer)\n",
    "        fmt='-',  # Use a solid line\n",
    "        capsize=5,\n",
    "    )\n",
    "\n",
    "# Set labels and legend\n",
    "ax.set_title(None)  # Remove the title\n",
    "plt.xlabel('ENTWURF')\n",
    "plt.ylabel('Modus')\n",
    "\n",
    "# Modify legend labels for side-by-side display\n",
    "legend_labels = result_df.index.levels[1].tolist()\n",
    "plt.legend(title='UX_DIMENSION', labels=legend_labels, loc='upper right')\n",
    "\n",
    "# Set y-axis limits with a lower limit of 0\n",
    "plt.ylim(0, 9)\n",
    "\n",
    "# Hide specific y-axis tick labels\n",
    "plt.yticks([1, 2, 3, 4, 5, 6, 7])\n",
    "\n",
    "# Show the plot\n",
    "plt.show()\n"
   ]
  },
  {
   "cell_type": "code",
   "execution_count": null,
   "metadata": {},
   "outputs": [],
   "source": []
  }
 ],
 "metadata": {
  "kernelspec": {
   "display_name": "Python 3 (ipykernel)",
   "language": "python",
   "name": "python3"
  },
  "language_info": {
   "codemirror_mode": {
    "name": "ipython",
    "version": 3
   },
   "file_extension": ".py",
   "mimetype": "text/x-python",
   "name": "python",
   "nbconvert_exporter": "python",
   "pygments_lexer": "ipython3",
   "version": "3.11.6"
  }
 },
 "nbformat": 4,
 "nbformat_minor": 4
}
